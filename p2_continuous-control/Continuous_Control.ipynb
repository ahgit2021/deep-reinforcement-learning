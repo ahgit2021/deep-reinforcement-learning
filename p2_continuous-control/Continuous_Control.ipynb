{
 "cells": [
  {
   "cell_type": "markdown",
   "metadata": {},
   "source": [
    "# Continuous Control\n",
    "\n",
    "---\n",
    "\n",
    "In this notebook, you will learn how to use the Unity ML-Agents environment for the second project of the [Deep Reinforcement Learning Nanodegree](https://www.udacity.com/course/deep-reinforcement-learning-nanodegree--nd893) program.\n",
    "\n",
    "### 1. Start the Environment\n",
    "\n",
    "We begin by importing the necessary packages.  If the code cell below returns an error, please revisit the project instructions to double-check that you have installed [Unity ML-Agents](https://github.com/Unity-Technologies/ml-agents/blob/master/docs/Installation.md) and [NumPy](http://www.numpy.org/)."
   ]
  },
  {
   "cell_type": "code",
   "execution_count": 1,
   "metadata": {},
   "outputs": [],
   "source": [
    "#!pip -q install ./python"
   ]
  },
  {
   "cell_type": "code",
   "execution_count": 2,
   "metadata": {},
   "outputs": [],
   "source": [
    "from unityagents import UnityEnvironment\n",
    "import numpy as np"
   ]
  },
  {
   "cell_type": "markdown",
   "metadata": {},
   "source": [
    "Next, we will start the environment!  **_Before running the code cell below_**, change the `file_name` parameter to match the location of the Unity environment that you downloaded.\n",
    "\n",
    "- **Mac**: `\"path/to/Reacher.app\"`\n",
    "- **Windows** (x86): `\"path/to/Reacher_Windows_x86/Reacher.exe\"`\n",
    "- **Windows** (x86_64): `\"path/to/Reacher_Windows_x86_64/Reacher.exe\"`\n",
    "- **Linux** (x86): `\"path/to/Reacher_Linux/Reacher.x86\"`\n",
    "- **Linux** (x86_64): `\"path/to/Reacher_Linux/Reacher.x86_64\"`\n",
    "- **Linux** (x86, headless): `\"path/to/Reacher_Linux_NoVis/Reacher.x86\"`\n",
    "- **Linux** (x86_64, headless): `\"path/to/Reacher_Linux_NoVis/Reacher.x86_64\"`\n",
    "\n",
    "For instance, if you are using a Mac, then you downloaded `Reacher.app`.  If this file is in the same folder as the notebook, then the line below should appear as follows:\n",
    "```\n",
    "env = UnityEnvironment(file_name=\"Reacher.app\")\n",
    "```"
   ]
  },
  {
   "cell_type": "code",
   "execution_count": 3,
   "metadata": {},
   "outputs": [
    {
     "name": "stderr",
     "output_type": "stream",
     "text": [
      "INFO:unityagents:\n",
      "'Academy' started successfully!\n",
      "Unity Academy name: Academy\n",
      "        Number of Brains: 1\n",
      "        Number of External Brains : 1\n",
      "        Lesson number : 0\n",
      "        Reset Parameters :\n",
      "\t\tgoal_size -> 5.0\n",
      "\t\tgoal_speed -> 1.0\n",
      "Unity brain name: ReacherBrain\n",
      "        Number of Visual Observations (per agent): 0\n",
      "        Vector Observation space type: continuous\n",
      "        Vector Observation space size (per agent): 33\n",
      "        Number of stacked Vector Observation: 1\n",
      "        Vector Action space type: continuous\n",
      "        Vector Action space size (per agent): 4\n",
      "        Vector Action descriptions: , , , \n"
     ]
    }
   ],
   "source": [
    "env = UnityEnvironment(file_name=\"Reacher.app\")"
   ]
  },
  {
   "cell_type": "markdown",
   "metadata": {},
   "source": [
    "Environments contain **_brains_** which are responsible for deciding the actions of their associated agents. Here we check for the first brain available, and set it as the default brain we will be controlling from Python."
   ]
  },
  {
   "cell_type": "code",
   "execution_count": 4,
   "metadata": {},
   "outputs": [],
   "source": [
    "# get the default brain\n",
    "brain_name = env.brain_names[0]\n",
    "brain = env.brains[brain_name]"
   ]
  },
  {
   "cell_type": "markdown",
   "metadata": {},
   "source": [
    "### 2. Examine the State and Action Spaces\n",
    "\n",
    "In this environment, a double-jointed arm can move to target locations. A reward of `+0.1` is provided for each step that the agent's hand is in the goal location. Thus, the goal of your agent is to maintain its position at the target location for as many time steps as possible.\n",
    "\n",
    "The observation space consists of `33` variables corresponding to position, rotation, velocity, and angular velocities of the arm.  Each action is a vector with four numbers, corresponding to torque applicable to two joints.  Every entry in the action vector must be a number between `-1` and `1`.\n",
    "\n",
    "Run the code cell below to print some information about the environment."
   ]
  },
  {
   "cell_type": "code",
   "execution_count": 5,
   "metadata": {},
   "outputs": [
    {
     "name": "stdout",
     "output_type": "stream",
     "text": [
      "Number of agents: 20\n",
      "Size of each action: 4\n",
      "There are 20 agents. Each observes a state with length: 33\n",
      "The state for the first agent looks like: [ 0.00000000e+00 -4.00000000e+00  0.00000000e+00  1.00000000e+00\n",
      " -0.00000000e+00 -0.00000000e+00 -4.37113883e-08  0.00000000e+00\n",
      "  0.00000000e+00  0.00000000e+00  0.00000000e+00  0.00000000e+00\n",
      "  0.00000000e+00  0.00000000e+00 -1.00000000e+01  0.00000000e+00\n",
      "  1.00000000e+00 -0.00000000e+00 -0.00000000e+00 -4.37113883e-08\n",
      "  0.00000000e+00  0.00000000e+00  0.00000000e+00  0.00000000e+00\n",
      "  0.00000000e+00  0.00000000e+00  5.75471878e+00 -1.00000000e+00\n",
      "  5.55726624e+00  0.00000000e+00  1.00000000e+00  0.00000000e+00\n",
      " -1.68164849e-01]\n"
     ]
    }
   ],
   "source": [
    "# reset the environment\n",
    "env_info = env.reset(train_mode=True)[brain_name]\n",
    "\n",
    "# number of agents\n",
    "num_agents = len(env_info.agents)\n",
    "print('Number of agents:', num_agents)\n",
    "\n",
    "# size of each action\n",
    "action_size = brain.vector_action_space_size\n",
    "print('Size of each action:', action_size)\n",
    "\n",
    "# examine the state space \n",
    "states = env_info.vector_observations\n",
    "state_size = states.shape[1]\n",
    "print('There are {} agents. Each observes a state with length: {}'.format(states.shape[0], state_size))\n",
    "print('The state for the first agent looks like:', states[0])"
   ]
  },
  {
   "cell_type": "markdown",
   "metadata": {},
   "source": [
    "### 3. Take Random Actions in the Environment\n",
    "\n",
    "In the next code cell, you will learn how to use the Python API to control the agent and receive feedback from the environment.\n",
    "\n",
    "Once this cell is executed, you will watch the agent's performance, if it selects an action at random with each time step.  A window should pop up that allows you to observe the agent, as it moves through the environment.  \n",
    "\n",
    "Of course, as part of the project, you'll have to change the code so that the agent is able to use its experience to gradually choose better actions when interacting with the environment!"
   ]
  },
  {
   "cell_type": "code",
   "execution_count": 6,
   "metadata": {},
   "outputs": [
    {
     "name": "stdout",
     "output_type": "stream",
     "text": [
      "Total score (averaged over agents) this episode: 0.0\n"
     ]
    }
   ],
   "source": [
    "env_info = env.reset(train_mode=False)[brain_name]     # reset the environment    \n",
    "states = env_info.vector_observations                  # get the current state (for each agent)\n",
    "scores = np.zeros(num_agents)                          # initialize the score (for each agent)\n",
    "while False:\n",
    "    actions = np.random.randn(num_agents, action_size) # select an action (for each agent)\n",
    "    actions = np.clip(actions, -1, 1)                  # all actions between -1 and 1\n",
    "    env_info = env.step(actions)[brain_name]           # send all actions to tne environment\n",
    "    next_states = env_info.vector_observations         # get next state (for each agent)\n",
    "    rewards = env_info.rewards                         # get reward (for each agent)\n",
    "    dones = env_info.local_done                        # see if episode finished\n",
    "    scores += env_info.rewards                         # update the score (for each agent)\n",
    "    states = next_states                               # roll over states to next time step\n",
    "    if np.any(dones):                                  # exit loop if episode finished\n",
    "        break\n",
    "print('Total score (averaged over agents) this episode: {}'.format(np.mean(scores)))"
   ]
  },
  {
   "cell_type": "markdown",
   "metadata": {},
   "source": [
    "When finished, you can close the environment."
   ]
  },
  {
   "cell_type": "code",
   "execution_count": 7,
   "metadata": {},
   "outputs": [],
   "source": [
    "#env.close()"
   ]
  },
  {
   "cell_type": "markdown",
   "metadata": {},
   "source": [
    "### 4. It's Your Turn!\n",
    "\n",
    "Now it's your turn to train your own agent to solve the environment!  When training the environment, set `train_mode=True`, so that the line for resetting the environment looks like the following:\n",
    "```python\n",
    "env_info = env.reset(train_mode=True)[brain_name]\n",
    "```"
   ]
  },
  {
   "cell_type": "code",
   "execution_count": 8,
   "metadata": {},
   "outputs": [],
   "source": [
    "env_info = env.reset(train_mode=True)[brain_name]"
   ]
  },
  {
   "cell_type": "code",
   "execution_count": 9,
   "metadata": {},
   "outputs": [],
   "source": [
    "import importlib\n",
    "import train\n",
    "importlib.reload(train)\n",
    "from agent import Agent"
   ]
  },
  {
   "cell_type": "code",
   "execution_count": 10,
   "metadata": {},
   "outputs": [
    {
     "name": "stdout",
     "output_type": "stream",
     "text": [
      "Episode 0\tScore: 0.74\tLast 10 Scores: 0.74\tRunning Average: 0.74\n",
      "Episode 1\tScore: 0.10\tLast 10 Scores: 0.42\tRunning Average: 0.42\n",
      "Episode 2\tScore: 0.06\tLast 10 Scores: 0.30\tRunning Average: 0.30\n",
      "Episode 3\tScore: 0.02\tLast 10 Scores: 0.23\tRunning Average: 0.23\n",
      "Episode 4\tScore: 0.20\tLast 10 Scores: 0.22\tRunning Average: 0.22\n",
      "Episode 5\tScore: 0.50\tLast 10 Scores: 0.27\tRunning Average: 0.27\n",
      "Episode 6\tScore: 0.96\tLast 10 Scores: 0.37\tRunning Average: 0.37\n",
      "Episode 7\tScore: 1.08\tLast 10 Scores: 0.46\tRunning Average: 0.46\n",
      "Episode 8\tScore: 0.86\tLast 10 Scores: 0.50\tRunning Average: 0.50\n",
      "Episode 9\tScore: 1.00\tLast 10 Scores: 0.55\tRunning Average: 0.55\n",
      "Episode 10\tScore: 0.97\tLast 10 Scores: 0.58\tRunning Average: 0.59\n",
      "Episode 11\tScore: 1.72\tLast 10 Scores: 0.74\tRunning Average: 0.68\n",
      "Episode 12\tScore: 2.18\tLast 10 Scores: 0.95\tRunning Average: 0.80\n",
      "Episode 13\tScore: 3.04\tLast 10 Scores: 1.25\tRunning Average: 0.96\n",
      "Episode 14\tScore: 2.45\tLast 10 Scores: 1.48\tRunning Average: 1.06\n",
      "Episode 15\tScore: 2.85\tLast 10 Scores: 1.71\tRunning Average: 1.17\n",
      "Episode 16\tScore: 3.77\tLast 10 Scores: 1.99\tRunning Average: 1.32\n",
      "Episode 17\tScore: 3.81\tLast 10 Scores: 2.26\tRunning Average: 1.46\n",
      "Episode 18\tScore: 4.33\tLast 10 Scores: 2.61\tRunning Average: 1.61\n",
      "Episode 19\tScore: 4.85\tLast 10 Scores: 3.00\tRunning Average: 1.77\n",
      "Episode 20\tScore: 8.91\tLast 10 Scores: 3.79\tRunning Average: 2.11\n",
      "Episode 21\tScore: 10.26\tLast 10 Scores: 4.65\tRunning Average: 2.49\n",
      "Episode 22\tScore: 13.77\tLast 10 Scores: 5.80\tRunning Average: 2.98\n",
      "Episode 23\tScore: 15.90\tLast 10 Scores: 7.09\tRunning Average: 3.51\n",
      "Episode 24\tScore: 14.57\tLast 10 Scores: 8.30\tRunning Average: 3.96\n",
      "Episode 25\tScore: 16.09\tLast 10 Scores: 9.63\tRunning Average: 4.42\n",
      "Episode 26\tScore: 17.50\tLast 10 Scores: 11.00\tRunning Average: 4.91\n",
      "Episode 27\tScore: 18.35\tLast 10 Scores: 12.45\tRunning Average: 5.39\n",
      "Episode 28\tScore: 18.89\tLast 10 Scores: 13.91\tRunning Average: 5.85\n",
      "Episode 29\tScore: 19.80\tLast 10 Scores: 15.40\tRunning Average: 6.32\n",
      "Episode 30\tScore: 18.64\tLast 10 Scores: 16.38\tRunning Average: 6.72\n",
      "Episode 31\tScore: 21.09\tLast 10 Scores: 17.46\tRunning Average: 7.16\n",
      "Episode 32\tScore: 23.60\tLast 10 Scores: 18.44\tRunning Average: 7.66\n",
      "Episode 33\tScore: 26.76\tLast 10 Scores: 19.53\tRunning Average: 8.22\n",
      "Episode 34\tScore: 30.36\tLast 10 Scores: 21.11\tRunning Average: 8.86\n",
      "Episode 35\tScore: 30.52\tLast 10 Scores: 22.55\tRunning Average: 9.46\n",
      "Episode 36\tScore: 33.95\tLast 10 Scores: 24.20\tRunning Average: 10.12\n",
      "Episode 37\tScore: 35.56\tLast 10 Scores: 25.92\tRunning Average: 10.79\n",
      "Episode 38\tScore: 36.60\tLast 10 Scores: 27.69\tRunning Average: 11.45\n",
      "Episode 39\tScore: 36.22\tLast 10 Scores: 29.33\tRunning Average: 12.07\n",
      "Episode 40\tScore: 37.92\tLast 10 Scores: 31.26\tRunning Average: 12.70\n",
      "Episode 41\tScore: 38.46\tLast 10 Scores: 33.00\tRunning Average: 13.31\n",
      "Episode 42\tScore: 38.59\tLast 10 Scores: 34.49\tRunning Average: 13.90\n",
      "Episode 43\tScore: 38.75\tLast 10 Scores: 35.69\tRunning Average: 14.47\n",
      "Episode 44\tScore: 38.51\tLast 10 Scores: 36.51\tRunning Average: 15.00\n",
      "Episode 45\tScore: 38.72\tLast 10 Scores: 37.33\tRunning Average: 15.52\n",
      "Episode 46\tScore: 38.94\tLast 10 Scores: 37.83\tRunning Average: 16.02\n",
      "Episode 47\tScore: 39.20\tLast 10 Scores: 38.19\tRunning Average: 16.50\n",
      "Episode 48\tScore: 38.90\tLast 10 Scores: 38.42\tRunning Average: 16.96\n",
      "Episode 49\tScore: 39.07\tLast 10 Scores: 38.71\tRunning Average: 17.40\n",
      "Episode 50\tScore: 39.22\tLast 10 Scores: 38.84\tRunning Average: 17.83\n",
      "Episode 51\tScore: 39.06\tLast 10 Scores: 38.90\tRunning Average: 18.23\n",
      "Episode 52\tScore: 38.78\tLast 10 Scores: 38.92\tRunning Average: 18.62\n",
      "Episode 53\tScore: 39.31\tLast 10 Scores: 38.97\tRunning Average: 19.01\n",
      "Episode 54\tScore: 39.31\tLast 10 Scores: 39.05\tRunning Average: 19.37\n",
      "Episode 55\tScore: 39.28\tLast 10 Scores: 39.11\tRunning Average: 19.73\n",
      "Episode 56\tScore: 38.83\tLast 10 Scores: 39.10\tRunning Average: 20.07\n",
      "Episode 57\tScore: 39.30\tLast 10 Scores: 39.11\tRunning Average: 20.40\n",
      "Episode 58\tScore: 38.93\tLast 10 Scores: 39.11\tRunning Average: 20.71\n",
      "Episode 59\tScore: 39.01\tLast 10 Scores: 39.10\tRunning Average: 21.02\n",
      "Episode 60\tScore: 38.91\tLast 10 Scores: 39.07\tRunning Average: 21.31\n",
      "Episode 61\tScore: 39.37\tLast 10 Scores: 39.10\tRunning Average: 21.60\n",
      "Episode 62\tScore: 38.80\tLast 10 Scores: 39.11\tRunning Average: 21.87\n",
      "Episode 63\tScore: 38.72\tLast 10 Scores: 39.05\tRunning Average: 22.14\n",
      "Episode 64\tScore: 39.00\tLast 10 Scores: 39.02\tRunning Average: 22.40\n",
      "Episode 65\tScore: 38.22\tLast 10 Scores: 38.91\tRunning Average: 22.64\n",
      "Episode 66\tScore: 38.57\tLast 10 Scores: 38.89\tRunning Average: 22.87\n",
      "Episode 67\tScore: 39.27\tLast 10 Scores: 38.88\tRunning Average: 23.12\n",
      "Episode 68\tScore: 39.01\tLast 10 Scores: 38.89\tRunning Average: 23.35\n",
      "Episode 69\tScore: 39.40\tLast 10 Scores: 38.93\tRunning Average: 23.57\n",
      "Episode 70\tScore: 38.89\tLast 10 Scores: 38.93\tRunning Average: 23.79\n",
      "Episode 71\tScore: 38.39\tLast 10 Scores: 38.83\tRunning Average: 23.99\n",
      "Episode 72\tScore: 39.26\tLast 10 Scores: 38.87\tRunning Average: 24.20\n",
      "Episode 73\tScore: 38.63\tLast 10 Scores: 38.86\tRunning Average: 24.40\n",
      "Episode 74\tScore: 39.18\tLast 10 Scores: 38.88\tRunning Average: 24.59\n",
      "Episode 75\tScore: 38.03\tLast 10 Scores: 38.86\tRunning Average: 24.77\n",
      "Episode 76\tScore: 37.90\tLast 10 Scores: 38.80\tRunning Average: 24.94\n",
      "Episode 77\tScore: 34.89\tLast 10 Scores: 38.36\tRunning Average: 25.07\n",
      "Episode 78\tScore: 37.21\tLast 10 Scores: 38.18\tRunning Average: 25.22\n",
      "Episode 79\tScore: 37.88\tLast 10 Scores: 38.02\tRunning Average: 25.38\n",
      "Episode 80\tScore: 37.75\tLast 10 Scores: 37.91\tRunning Average: 25.53\n",
      "Episode 81\tScore: 37.19\tLast 10 Scores: 37.79\tRunning Average: 25.68\n",
      "Episode 82\tScore: 37.20\tLast 10 Scores: 37.59\tRunning Average: 25.81\n",
      "Episode 83\tScore: 35.60\tLast 10 Scores: 37.28\tRunning Average: 25.93\n",
      "Episode 84\tScore: 36.68\tLast 10 Scores: 37.03\tRunning Average: 26.06\n",
      "Episode 85\tScore: 38.06\tLast 10 Scores: 37.04\tRunning Average: 26.20\n",
      "Episode 86\tScore: 37.67\tLast 10 Scores: 37.01\tRunning Average: 26.33\n",
      "Episode 87\tScore: 37.47\tLast 10 Scores: 37.27\tRunning Average: 26.46\n",
      "Episode 88\tScore: 35.37\tLast 10 Scores: 37.09\tRunning Average: 26.56\n",
      "Episode 89\tScore: 37.40\tLast 10 Scores: 37.04\tRunning Average: 26.68\n",
      "Episode 90\tScore: 37.74\tLast 10 Scores: 37.04\tRunning Average: 26.80\n",
      "Episode 91\tScore: 38.20\tLast 10 Scores: 37.14\tRunning Average: 26.92\n",
      "Episode 92\tScore: 33.78\tLast 10 Scores: 36.80\tRunning Average: 27.00\n",
      "Episode 93\tScore: 38.10\tLast 10 Scores: 37.05\tRunning Average: 27.11\n",
      "Episode 94\tScore: 37.56\tLast 10 Scores: 37.13\tRunning Average: 27.22\n",
      "Episode 95\tScore: 36.66\tLast 10 Scores: 36.99\tRunning Average: 27.32\n",
      "Episode 96\tScore: 35.99\tLast 10 Scores: 36.83\tRunning Average: 27.41\n",
      "Episode 97\tScore: 34.54\tLast 10 Scores: 36.53\tRunning Average: 27.48\n",
      "Episode 98\tScore: 33.96\tLast 10 Scores: 36.39\tRunning Average: 27.55\n",
      "Episode 99\tScore: 32.40\tLast 10 Scores: 35.89\tRunning Average: 27.60\n",
      "Episode 100\tScore: 30.68\tLast 10 Scores: 35.19\tRunning Average: 27.90\n",
      "Episode 101\tScore: 32.15\tLast 10 Scores: 34.58\tRunning Average: 28.22\n",
      "Episode 102\tScore: 28.36\tLast 10 Scores: 34.04\tRunning Average: 28.50\n",
      "Episode 103\tScore: 32.79\tLast 10 Scores: 33.51\tRunning Average: 28.83\n",
      "Episode 104\tScore: 35.62\tLast 10 Scores: 33.32\tRunning Average: 29.18\n",
      "Episode 105\tScore: 36.48\tLast 10 Scores: 33.30\tRunning Average: 29.54\n",
      "Episode 106\tScore: 33.52\tLast 10 Scores: 33.05\tRunning Average: 29.87\n",
      "Episode 107\tScore: 37.51\tLast 10 Scores: 33.35\tRunning Average: 30.23\n",
      "solved in 107 episodes!\n",
      "\n"
     ]
    }
   ],
   "source": [
    "num_episodes = 300\n",
    "scores = train.train_agent(env, num_episodes)"
   ]
  },
  {
   "cell_type": "code",
   "execution_count": 11,
   "metadata": {},
   "outputs": [
    {
     "data": {
      "image/png": "[encoded data removed]",
      "text/plain": [
       "<Figure size 432x288 with 1 Axes>"
      ]
     },
     "metadata": {
      "needs_background": "light"
     },
     "output_type": "display_data"
    }
   ],
   "source": [
    "import matplotlib.pyplot as plt\n",
    "%matplotlib inline\n",
    "\n",
    "fig = plt.figure()\n",
    "ax = fig.add_subplot(111)\n",
    "plt.plot(np.arange(1, len(scores)+1), scores)\n",
    "plt.ylabel('Score')\n",
    "plt.xlabel('Episode #')\n",
    "plt.show()"
   ]
  },
  {
   "cell_type": "code",
   "execution_count": 12,
   "metadata": {},
   "outputs": [
    {
     "name": "stdout",
     "output_type": "stream",
     "text": [
      "evaluate trained agent\n",
      "\n",
      "Episode 0\tScore: 39.28\tRunning Average: 39.28\n",
      "Episode 1\tScore: 39.08\tRunning Average: 39.18\n",
      "Episode 2\tScore: 39.32\tRunning Average: 39.23\n",
      "Episode 3\tScore: 39.09\tRunning Average: 39.19\n",
      "Episode 4\tScore: 39.23\tRunning Average: 39.20\n",
      "Episode 5\tScore: 39.32\tRunning Average: 39.22\n",
      "Episode 6\tScore: 39.30\tRunning Average: 39.23\n",
      "Episode 7\tScore: 39.33\tRunning Average: 39.25\n",
      "Episode 8\tScore: 39.55\tRunning Average: 39.28\n",
      "Episode 9\tScore: 39.18\tRunning Average: 39.27\n",
      "Episode 10\tScore: 38.97\tRunning Average: 39.24\n",
      "Episode 11\tScore: 39.31\tRunning Average: 39.25\n",
      "Episode 12\tScore: 39.16\tRunning Average: 39.24\n",
      "Episode 13\tScore: 39.24\tRunning Average: 39.24\n",
      "Episode 14\tScore: 39.38\tRunning Average: 39.25\n",
      "Episode 15\tScore: 39.37\tRunning Average: 39.26\n",
      "Episode 16\tScore: 39.47\tRunning Average: 39.27\n",
      "Episode 17\tScore: 39.50\tRunning Average: 39.28\n",
      "Episode 18\tScore: 39.38\tRunning Average: 39.29\n",
      "Episode 19\tScore: 39.35\tRunning Average: 39.29\n",
      "Episode 20\tScore: 39.30\tRunning Average: 39.29\n",
      "Episode 21\tScore: 39.35\tRunning Average: 39.29\n",
      "Episode 22\tScore: 39.42\tRunning Average: 39.30\n",
      "Episode 23\tScore: 38.87\tRunning Average: 39.28\n",
      "Episode 24\tScore: 38.94\tRunning Average: 39.27\n",
      "Episode 25\tScore: 39.42\tRunning Average: 39.27\n",
      "Episode 26\tScore: 39.12\tRunning Average: 39.27\n",
      "Episode 27\tScore: 39.16\tRunning Average: 39.26\n",
      "Episode 28\tScore: 39.48\tRunning Average: 39.27\n",
      "Episode 29\tScore: 39.46\tRunning Average: 39.28\n",
      "Episode 30\tScore: 39.48\tRunning Average: 39.28\n",
      "Episode 31\tScore: 39.50\tRunning Average: 39.29\n",
      "Episode 32\tScore: 39.21\tRunning Average: 39.29\n",
      "Episode 33\tScore: 39.32\tRunning Average: 39.29\n",
      "Episode 34\tScore: 39.51\tRunning Average: 39.30\n",
      "Episode 35\tScore: 39.21\tRunning Average: 39.29\n",
      "Episode 36\tScore: 39.20\tRunning Average: 39.29\n",
      "Episode 37\tScore: 38.98\tRunning Average: 39.28\n",
      "Episode 38\tScore: 39.26\tRunning Average: 39.28\n",
      "Episode 39\tScore: 39.29\tRunning Average: 39.28\n",
      "Episode 40\tScore: 39.03\tRunning Average: 39.28\n",
      "Episode 41\tScore: 39.15\tRunning Average: 39.27\n",
      "Episode 42\tScore: 39.23\tRunning Average: 39.27\n",
      "Episode 43\tScore: 39.09\tRunning Average: 39.27\n",
      "Episode 44\tScore: 39.28\tRunning Average: 39.27\n",
      "Episode 45\tScore: 38.99\tRunning Average: 39.26\n",
      "Episode 46\tScore: 39.39\tRunning Average: 39.27\n",
      "Episode 47\tScore: 39.14\tRunning Average: 39.26\n",
      "Episode 48\tScore: 39.38\tRunning Average: 39.26\n",
      "Episode 49\tScore: 39.47\tRunning Average: 39.27\n",
      "Episode 50\tScore: 39.07\tRunning Average: 39.27\n",
      "Episode 51\tScore: 39.15\tRunning Average: 39.26\n",
      "Episode 52\tScore: 38.99\tRunning Average: 39.26\n",
      "Episode 53\tScore: 38.96\tRunning Average: 39.25\n",
      "Episode 54\tScore: 39.26\tRunning Average: 39.25\n",
      "Episode 55\tScore: 38.80\tRunning Average: 39.24\n",
      "Episode 56\tScore: 39.07\tRunning Average: 39.24\n",
      "Episode 57\tScore: 39.07\tRunning Average: 39.24\n",
      "Episode 58\tScore: 38.88\tRunning Average: 39.23\n",
      "Episode 59\tScore: 39.23\tRunning Average: 39.23\n",
      "Episode 60\tScore: 39.20\tRunning Average: 39.23\n",
      "Episode 61\tScore: 39.29\tRunning Average: 39.23\n",
      "Episode 62\tScore: 39.01\tRunning Average: 39.23\n",
      "Episode 63\tScore: 39.22\tRunning Average: 39.23\n",
      "Episode 64\tScore: 39.44\tRunning Average: 39.23\n",
      "Episode 65\tScore: 39.12\tRunning Average: 39.23\n",
      "Episode 66\tScore: 39.61\tRunning Average: 39.24\n",
      "Episode 67\tScore: 39.00\tRunning Average: 39.23\n",
      "Episode 68\tScore: 39.19\tRunning Average: 39.23\n",
      "Episode 69\tScore: 39.27\tRunning Average: 39.23\n",
      "Episode 70\tScore: 39.07\tRunning Average: 39.23\n",
      "Episode 71\tScore: 38.86\tRunning Average: 39.23\n",
      "Episode 72\tScore: 39.40\tRunning Average: 39.23\n",
      "Episode 73\tScore: 39.20\tRunning Average: 39.23\n",
      "Episode 74\tScore: 39.40\tRunning Average: 39.23\n",
      "Episode 75\tScore: 39.02\tRunning Average: 39.23\n",
      "Episode 76\tScore: 39.28\tRunning Average: 39.23\n",
      "Episode 77\tScore: 39.42\tRunning Average: 39.23\n",
      "Episode 78\tScore: 39.03\tRunning Average: 39.23\n",
      "Episode 79\tScore: 39.49\tRunning Average: 39.23\n",
      "Episode 80\tScore: 39.25\tRunning Average: 39.23\n",
      "Episode 81\tScore: 39.06\tRunning Average: 39.23\n",
      "Episode 82\tScore: 39.09\tRunning Average: 39.23\n",
      "Episode 83\tScore: 39.11\tRunning Average: 39.23\n",
      "Episode 84\tScore: 39.38\tRunning Average: 39.23\n",
      "Episode 85\tScore: 39.34\tRunning Average: 39.23\n",
      "Episode 86\tScore: 39.34\tRunning Average: 39.23\n",
      "Episode 87\tScore: 39.23\tRunning Average: 39.23\n",
      "Episode 88\tScore: 39.12\tRunning Average: 39.23\n",
      "Episode 89\tScore: 39.38\tRunning Average: 39.23\n",
      "Episode 90\tScore: 39.19\tRunning Average: 39.23\n",
      "Episode 91\tScore: 38.94\tRunning Average: 39.23\n",
      "Episode 92\tScore: 39.45\tRunning Average: 39.23\n",
      "Episode 93\tScore: 39.37\tRunning Average: 39.23\n",
      "Episode 94\tScore: 39.25\tRunning Average: 39.23\n",
      "Episode 95\tScore: 39.45\tRunning Average: 39.23\n",
      "Episode 96\tScore: 39.51\tRunning Average: 39.24\n",
      "Episode 97\tScore: 39.06\tRunning Average: 39.23\n",
      "Episode 98\tScore: 39.35\tRunning Average: 39.24\n",
      "Episode 99\tScore: 39.49\tRunning Average: 39.24\n",
      "Mean score over 100 episodes: 39.24\n"
     ]
    }
   ],
   "source": [
    "import evaluate\n",
    "importlib.reload(evaluate)\n",
    "print(\"evaluate trained agent\\n\")\n",
    "scores = evaluate.evaluate_agent(env, num_episodes=100)"
   ]
  },
  {
   "cell_type": "code",
   "execution_count": 13,
   "metadata": {},
   "outputs": [
    {
     "data": {
      "image/png": "[encoded data removed]",
      "text/plain": [
       "<Figure size 432x288 with 1 Axes>"
      ]
     },
     "metadata": {
      "needs_background": "light"
     },
     "output_type": "display_data"
    }
   ],
   "source": [
    "fig = plt.figure()\n",
    "ax = fig.add_subplot(111)\n",
    "plt.plot(np.arange(1, len(scores)+1), scores)\n",
    "plt.ylabel('Score')\n",
    "plt.xlabel('Episode #')\n",
    "plt.show()"
   ]
  },
  {
   "cell_type": "code",
   "execution_count": null,
   "metadata": {},
   "outputs": [],
   "source": []
  }
 ],
 "metadata": {
  "kernelspec": {
   "display_name": "Python 3",
   "language": "python",
   "name": "python3"
  },
  "language_info": {
   "codemirror_mode": {
    "name": "ipython",
    "version": 3
   },
   "file_extension": ".py",
   "mimetype": "text/x-python",
   "name": "python",
   "nbconvert_exporter": "python",
   "pygments_lexer": "ipython3",
   "version": "3.6.12"
  }
 },
 "nbformat": 4,
 "nbformat_minor": 2
}
