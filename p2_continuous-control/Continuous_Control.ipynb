{
 "cells": [
  {
   "cell_type": "markdown",
   "metadata": {},
   "source": [
    "# Continuous Control\n",
    "\n",
    "---\n",
    "\n",
    "In this notebook, you will learn how to use the Unity ML-Agents environment for the second project of the [Deep Reinforcement Learning Nanodegree](https://www.udacity.com/course/deep-reinforcement-learning-nanodegree--nd893) program.\n",
    "\n",
    "### 1. Start the Environment\n",
    "\n",
    "We begin by importing the necessary packages.  If the code cell below returns an error, please revisit the project instructions to double-check that you have installed [Unity ML-Agents](https://github.com/Unity-Technologies/ml-agents/blob/master/docs/Installation.md) and [NumPy](http://www.numpy.org/)."
   ]
  },
  {
   "cell_type": "code",
   "execution_count": 1,
   "metadata": {},
   "outputs": [
    {
     "name": "stdout",
     "output_type": "stream",
     "text": [
      "\u001b[31mERROR: Invalid requirement: './python'\r\n",
      "Hint: It looks like a path. File './python' does not exist.\u001b[0m\r\n"
     ]
    }
   ],
   "source": [
    "!pip -q install ./python"
   ]
  },
  {
   "cell_type": "code",
   "execution_count": 2,
   "metadata": {},
   "outputs": [],
   "source": [
    "from unityagents import UnityEnvironment\n",
    "import numpy as np"
   ]
  },
  {
   "cell_type": "markdown",
   "metadata": {},
   "source": [
    "Next, we will start the environment!  **_Before running the code cell below_**, change the `file_name` parameter to match the location of the Unity environment that you downloaded.\n",
    "\n",
    "- **Mac**: `\"path/to/Reacher.app\"`\n",
    "- **Windows** (x86): `\"path/to/Reacher_Windows_x86/Reacher.exe\"`\n",
    "- **Windows** (x86_64): `\"path/to/Reacher_Windows_x86_64/Reacher.exe\"`\n",
    "- **Linux** (x86): `\"path/to/Reacher_Linux/Reacher.x86\"`\n",
    "- **Linux** (x86_64): `\"path/to/Reacher_Linux/Reacher.x86_64\"`\n",
    "- **Linux** (x86, headless): `\"path/to/Reacher_Linux_NoVis/Reacher.x86\"`\n",
    "- **Linux** (x86_64, headless): `\"path/to/Reacher_Linux_NoVis/Reacher.x86_64\"`\n",
    "\n",
    "For instance, if you are using a Mac, then you downloaded `Reacher.app`.  If this file is in the same folder as the notebook, then the line below should appear as follows:\n",
    "```\n",
    "env = UnityEnvironment(file_name=\"Reacher.app\")\n",
    "```"
   ]
  },
  {
   "cell_type": "code",
   "execution_count": 3,
   "metadata": {},
   "outputs": [
    {
     "name": "stderr",
     "output_type": "stream",
     "text": [
      "INFO:unityagents:\n",
      "'Academy' started successfully!\n",
      "Unity Academy name: Academy\n",
      "        Number of Brains: 1\n",
      "        Number of External Brains : 1\n",
      "        Lesson number : 0\n",
      "        Reset Parameters :\n",
      "\t\tgoal_speed -> 1.0\n",
      "\t\tgoal_size -> 5.0\n",
      "Unity brain name: ReacherBrain\n",
      "        Number of Visual Observations (per agent): 0\n",
      "        Vector Observation space type: continuous\n",
      "        Vector Observation space size (per agent): 33\n",
      "        Number of stacked Vector Observation: 1\n",
      "        Vector Action space type: continuous\n",
      "        Vector Action space size (per agent): 4\n",
      "        Vector Action descriptions: , , , \n"
     ]
    }
   ],
   "source": [
    "env = UnityEnvironment(file_name=\"Reacher.app\")"
   ]
  },
  {
   "cell_type": "markdown",
   "metadata": {},
   "source": [
    "Environments contain **_brains_** which are responsible for deciding the actions of their associated agents. Here we check for the first brain available, and set it as the default brain we will be controlling from Python."
   ]
  },
  {
   "cell_type": "code",
   "execution_count": 4,
   "metadata": {},
   "outputs": [],
   "source": [
    "# get the default brain\n",
    "brain_name = env.brain_names[0]\n",
    "brain = env.brains[brain_name]"
   ]
  },
  {
   "cell_type": "markdown",
   "metadata": {},
   "source": [
    "### 2. Examine the State and Action Spaces\n",
    "\n",
    "In this environment, a double-jointed arm can move to target locations. A reward of `+0.1` is provided for each step that the agent's hand is in the goal location. Thus, the goal of your agent is to maintain its position at the target location for as many time steps as possible.\n",
    "\n",
    "The observation space consists of `33` variables corresponding to position, rotation, velocity, and angular velocities of the arm.  Each action is a vector with four numbers, corresponding to torque applicable to two joints.  Every entry in the action vector must be a number between `-1` and `1`.\n",
    "\n",
    "Run the code cell below to print some information about the environment."
   ]
  },
  {
   "cell_type": "code",
   "execution_count": 5,
   "metadata": {},
   "outputs": [
    {
     "name": "stdout",
     "output_type": "stream",
     "text": [
      "Number of agents: 20\n",
      "Size of each action: 4\n",
      "There are 20 agents. Each observes a state with length: 33\n",
      "The state for the first agent looks like: [ 0.00000000e+00 -4.00000000e+00  0.00000000e+00  1.00000000e+00\n",
      " -0.00000000e+00 -0.00000000e+00 -4.37113883e-08  0.00000000e+00\n",
      "  0.00000000e+00  0.00000000e+00  0.00000000e+00  0.00000000e+00\n",
      "  0.00000000e+00  0.00000000e+00 -1.00000000e+01  0.00000000e+00\n",
      "  1.00000000e+00 -0.00000000e+00 -0.00000000e+00 -4.37113883e-08\n",
      "  0.00000000e+00  0.00000000e+00  0.00000000e+00  0.00000000e+00\n",
      "  0.00000000e+00  0.00000000e+00  5.75471878e+00 -1.00000000e+00\n",
      "  5.55726624e+00  0.00000000e+00  1.00000000e+00  0.00000000e+00\n",
      " -1.68164849e-01]\n"
     ]
    }
   ],
   "source": [
    "# reset the environment\n",
    "env_info = env.reset(train_mode=True)[brain_name]\n",
    "\n",
    "# number of agents\n",
    "num_agents = len(env_info.agents)\n",
    "print('Number of agents:', num_agents)\n",
    "\n",
    "# size of each action\n",
    "action_size = brain.vector_action_space_size\n",
    "print('Size of each action:', action_size)\n",
    "\n",
    "# examine the state space \n",
    "states = env_info.vector_observations\n",
    "state_size = states.shape[1]\n",
    "print('There are {} agents. Each observes a state with length: {}'.format(states.shape[0], state_size))\n",
    "print('The state for the first agent looks like:', states[0])"
   ]
  },
  {
   "cell_type": "markdown",
   "metadata": {},
   "source": [
    "### 3. Take Random Actions in the Environment\n",
    "\n",
    "In the next code cell, you will learn how to use the Python API to control the agent and receive feedback from the environment.\n",
    "\n",
    "Once this cell is executed, you will watch the agent's performance, if it selects an action at random with each time step.  A window should pop up that allows you to observe the agent, as it moves through the environment.  \n",
    "\n",
    "Of course, as part of the project, you'll have to change the code so that the agent is able to use its experience to gradually choose better actions when interacting with the environment!"
   ]
  },
  {
   "cell_type": "code",
   "execution_count": 6,
   "metadata": {},
   "outputs": [
    {
     "name": "stdout",
     "output_type": "stream",
     "text": [
      "Total score (averaged over agents) this episode: 0.0\n"
     ]
    }
   ],
   "source": [
    "env_info = env.reset(train_mode=False)[brain_name]     # reset the environment    \n",
    "states = env_info.vector_observations                  # get the current state (for each agent)\n",
    "scores = np.zeros(num_agents)                          # initialize the score (for each agent)\n",
    "while False:\n",
    "    actions = np.random.randn(num_agents, action_size) # select an action (for each agent)\n",
    "    actions = np.clip(actions, -1, 1)                  # all actions between -1 and 1\n",
    "    env_info = env.step(actions)[brain_name]           # send all actions to tne environment\n",
    "    next_states = env_info.vector_observations         # get next state (for each agent)\n",
    "    rewards = env_info.rewards                         # get reward (for each agent)\n",
    "    dones = env_info.local_done                        # see if episode finished\n",
    "    scores += env_info.rewards                         # update the score (for each agent)\n",
    "    states = next_states                               # roll over states to next time step\n",
    "    if np.any(dones):                                  # exit loop if episode finished\n",
    "        break\n",
    "print('Total score (averaged over agents) this episode: {}'.format(np.mean(scores)))"
   ]
  },
  {
   "cell_type": "markdown",
   "metadata": {},
   "source": [
    "When finished, you can close the environment."
   ]
  },
  {
   "cell_type": "code",
   "execution_count": 7,
   "metadata": {},
   "outputs": [],
   "source": [
    "#env.close()"
   ]
  },
  {
   "cell_type": "markdown",
   "metadata": {},
   "source": [
    "### 4. It's Your Turn!\n",
    "\n",
    "Now it's your turn to train your own agent to solve the environment!  When training the environment, set `train_mode=True`, so that the line for resetting the environment looks like the following:\n",
    "```python\n",
    "env_info = env.reset(train_mode=True)[brain_name]\n",
    "```"
   ]
  },
  {
   "cell_type": "code",
   "execution_count": 8,
   "metadata": {},
   "outputs": [],
   "source": [
    "env_info = env.reset(train_mode=True)[brain_name]"
   ]
  },
  {
   "cell_type": "code",
   "execution_count": 9,
   "metadata": {},
   "outputs": [],
   "source": [
    "import importlib\n",
    "import train\n",
    "importlib.reload(train)\n",
    "from agent import Agent"
   ]
  },
  {
   "cell_type": "code",
   "execution_count": null,
   "metadata": {},
   "outputs": [
    {
     "name": "stdout",
     "output_type": "stream",
     "text": [
      "Episode 0\tScore: 0.73\tLast 10 Scores: 0.73\tRunning Average: 0.73\n",
      "Episode 1\tScore: 0.91\tLast 10 Scores: 0.82\tRunning Average: 0.82\n",
      "Episode 2\tScore: 0.75\tLast 10 Scores: 0.80\tRunning Average: 0.80\n",
      "Episode 3\tScore: 0.49\tLast 10 Scores: 0.72\tRunning Average: 0.72\n",
      "Episode 4\tScore: 0.27\tLast 10 Scores: 0.63\tRunning Average: 0.63\n",
      "Episode 5\tScore: 0.47\tLast 10 Scores: 0.61\tRunning Average: 0.61\n",
      "Episode 6\tScore: 0.27\tLast 10 Scores: 0.56\tRunning Average: 0.56\n",
      "Episode 7\tScore: 0.23\tLast 10 Scores: 0.52\tRunning Average: 0.52\n",
      "Episode 8\tScore: 1.05\tLast 10 Scores: 0.58\tRunning Average: 0.58\n",
      "Episode 9\tScore: 0.94\tLast 10 Scores: 0.61\tRunning Average: 0.61\n",
      "Episode 10\tScore: 1.11\tLast 10 Scores: 0.65\tRunning Average: 0.66\n",
      "Episode 11\tScore: 1.21\tLast 10 Scores: 0.68\tRunning Average: 0.70\n",
      "Episode 12\tScore: 2.04\tLast 10 Scores: 0.81\tRunning Average: 0.81\n",
      "Episode 13\tScore: 2.04\tLast 10 Scores: 0.96\tRunning Average: 0.89\n",
      "Episode 14\tScore: 3.08\tLast 10 Scores: 1.24\tRunning Average: 1.04\n",
      "Episode 15\tScore: 3.79\tLast 10 Scores: 1.58\tRunning Average: 1.21\n",
      "Episode 16\tScore: 4.75\tLast 10 Scores: 2.02\tRunning Average: 1.42\n",
      "Episode 17\tScore: 4.59\tLast 10 Scores: 2.46\tRunning Average: 1.60\n",
      "Episode 18\tScore: 5.43\tLast 10 Scores: 2.90\tRunning Average: 1.80\n",
      "Episode 19\tScore: 6.04\tLast 10 Scores: 3.41\tRunning Average: 2.01\n",
      "Episode 20\tScore: 8.55\tLast 10 Scores: 4.15\tRunning Average: 2.32\n",
      "Episode 21\tScore: 9.08\tLast 10 Scores: 4.94\tRunning Average: 2.63\n",
      "Episode 22\tScore: 11.88\tLast 10 Scores: 5.92\tRunning Average: 3.03\n",
      "Episode 23\tScore: 15.55\tLast 10 Scores: 7.27\tRunning Average: 3.55\n",
      "Episode 24\tScore: 13.89\tLast 10 Scores: 8.35\tRunning Average: 3.97\n",
      "Episode 25\tScore: 17.46\tLast 10 Scores: 9.72\tRunning Average: 4.48\n",
      "Episode 26\tScore: 20.38\tLast 10 Scores: 11.28\tRunning Average: 5.07\n",
      "Episode 27\tScore: 24.93\tLast 10 Scores: 13.32\tRunning Average: 5.78\n",
      "Episode 28\tScore: 26.61\tLast 10 Scores: 15.44\tRunning Average: 6.50\n",
      "Episode 29\tScore: 29.53\tLast 10 Scores: 17.79\tRunning Average: 7.27\n",
      "Episode 30\tScore: 29.17\tLast 10 Scores: 19.85\tRunning Average: 7.97\n",
      "Episode 31\tScore: 31.08\tLast 10 Scores: 22.05\tRunning Average: 8.70\n",
      "Episode 32\tScore: 31.87\tLast 10 Scores: 24.05\tRunning Average: 9.40\n",
      "Episode 33\tScore: 31.71\tLast 10 Scores: 25.66\tRunning Average: 10.05\n",
      "Episode 34\tScore: 35.64\tLast 10 Scores: 27.84\tRunning Average: 10.79\n",
      "Episode 35\tScore: 36.20\tLast 10 Scores: 29.71\tRunning Average: 11.49\n",
      "Episode 36\tScore: 37.43\tLast 10 Scores: 31.42\tRunning Average: 12.19\n",
      "Episode 37\tScore: 38.58\tLast 10 Scores: 32.78\tRunning Average: 12.89\n",
      "Episode 38\tScore: 38.80\tLast 10 Scores: 34.00\tRunning Average: 13.55\n",
      "Episode 39\tScore: 38.23\tLast 10 Scores: 34.87\tRunning Average: 14.17\n",
      "Episode 40\tScore: 38.79\tLast 10 Scores: 35.83\tRunning Average: 14.77\n",
      "Episode 41\tScore: 38.98\tLast 10 Scores: 36.62\tRunning Average: 15.35\n",
      "Episode 42\tScore: 39.05\tLast 10 Scores: 37.34\tRunning Average: 15.90\n",
      "Episode 43\tScore: 39.18\tLast 10 Scores: 38.09\tRunning Average: 16.43\n",
      "Episode 44\tScore: 39.14\tLast 10 Scores: 38.44\tRunning Average: 16.93\n",
      "Episode 45\tScore: 38.96\tLast 10 Scores: 38.71\tRunning Average: 17.41\n",
      "Episode 46\tScore: 37.80\tLast 10 Scores: 38.75\tRunning Average: 17.84\n",
      "Episode 47\tScore: 39.39\tLast 10 Scores: 38.83\tRunning Average: 18.29\n",
      "Episode 48\tScore: 39.00\tLast 10 Scores: 38.85\tRunning Average: 18.71\n",
      "Episode 49\tScore: 38.90\tLast 10 Scores: 38.92\tRunning Average: 19.12\n",
      "Episode 50\tScore: 39.08\tLast 10 Scores: 38.95\tRunning Average: 19.51\n",
      "Episode 51\tScore: 39.39\tLast 10 Scores: 38.99\tRunning Average: 19.89\n",
      "Episode 52\tScore: 39.24\tLast 10 Scores: 39.01\tRunning Average: 20.26\n",
      "Episode 53\tScore: 38.79\tLast 10 Scores: 38.97\tRunning Average: 20.60\n",
      "Episode 54\tScore: 39.18\tLast 10 Scores: 38.97\tRunning Average: 20.94\n",
      "Episode 55\tScore: 38.73\tLast 10 Scores: 38.95\tRunning Average: 21.26\n",
      "Episode 56\tScore: 38.65\tLast 10 Scores: 39.04\tRunning Average: 21.56\n",
      "Episode 57\tScore: 38.69\tLast 10 Scores: 38.97\tRunning Average: 21.86\n",
      "Episode 58\tScore: 39.11\tLast 10 Scores: 38.98\tRunning Average: 22.15\n",
      "Episode 59\tScore: 39.13\tLast 10 Scores: 39.00\tRunning Average: 22.43\n",
      "Episode 60\tScore: 39.24\tLast 10 Scores: 39.02\tRunning Average: 22.71\n",
      "Episode 61\tScore: 39.39\tLast 10 Scores: 39.02\tRunning Average: 22.98\n",
      "Episode 62\tScore: 39.03\tLast 10 Scores: 38.99\tRunning Average: 23.23\n",
      "Episode 63\tScore: 39.24\tLast 10 Scores: 39.04\tRunning Average: 23.48\n",
      "Episode 64\tScore: 38.95\tLast 10 Scores: 39.02\tRunning Average: 23.72\n",
      "Episode 65\tScore: 39.10\tLast 10 Scores: 39.05\tRunning Average: 23.95\n",
      "Episode 66\tScore: 39.37\tLast 10 Scores: 39.13\tRunning Average: 24.18\n",
      "Episode 67\tScore: 38.18\tLast 10 Scores: 39.07\tRunning Average: 24.39\n",
      "Episode 68\tScore: 38.73\tLast 10 Scores: 39.04\tRunning Average: 24.60\n",
      "Episode 69\tScore: 36.40\tLast 10 Scores: 38.76\tRunning Average: 24.77\n",
      "Episode 70\tScore: 38.22\tLast 10 Scores: 38.66\tRunning Average: 24.95\n",
      "Episode 71\tScore: 37.08\tLast 10 Scores: 38.43\tRunning Average: 25.12\n",
      "Episode 72\tScore: 36.90\tLast 10 Scores: 38.22\tRunning Average: 25.28\n",
      "Episode 73\tScore: 38.84\tLast 10 Scores: 38.18\tRunning Average: 25.47\n",
      "Episode 74\tScore: 38.10\tLast 10 Scores: 38.09\tRunning Average: 25.64\n",
      "Episode 75\tScore: 36.89\tLast 10 Scores: 37.87\tRunning Average: 25.78\n",
      "Episode 76\tScore: 33.43\tLast 10 Scores: 37.28\tRunning Average: 25.88\n",
      "Episode 77\tScore: 36.40\tLast 10 Scores: 37.10\tRunning Average: 26.02\n",
      "Episode 78\tScore: 35.44\tLast 10 Scores: 36.77\tRunning Average: 26.14\n",
      "Episode 79\tScore: 38.45\tLast 10 Scores: 36.98\tRunning Average: 26.29\n",
      "Episode 80\tScore: 36.12\tLast 10 Scores: 36.77\tRunning Average: 26.41\n",
      "Episode 81\tScore: 35.75\tLast 10 Scores: 36.63\tRunning Average: 26.53\n",
      "Episode 82\tScore: 36.90\tLast 10 Scores: 36.63\tRunning Average: 26.65\n",
      "Episode 83\tScore: 37.64\tLast 10 Scores: 36.51\tRunning Average: 26.78\n",
      "Episode 84\tScore: 36.51\tLast 10 Scores: 36.35\tRunning Average: 26.90\n"
     ]
    }
   ],
   "source": [
    "num_episodes = 300\n",
    "train.train_agent(env, num_episodes)"
   ]
  }
 ],
 "metadata": {
  "kernelspec": {
   "display_name": "Python 3",
   "language": "python",
   "name": "python3"
  },
  "language_info": {
   "codemirror_mode": {
    "name": "ipython",
    "version": 3
   },
   "file_extension": ".py",
   "mimetype": "text/x-python",
   "name": "python",
   "nbconvert_exporter": "python",
   "pygments_lexer": "ipython3",
   "version": "3.6.12"
  }
 },
 "nbformat": 4,
 "nbformat_minor": 2
}
